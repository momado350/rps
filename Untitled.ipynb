{
 "cells": [
  {
   "cell_type": "code",
   "execution_count": 1,
   "metadata": {},
   "outputs": [],
   "source": [
    "# import dependencies\n",
    "import random"
   ]
  },
  {
   "cell_type": "code",
   "execution_count": 2,
   "metadata": {},
   "outputs": [],
   "source": [
    "# declacre variables\n",
    "comp_wins = 0\n",
    "player_wins = 0"
   ]
  },
  {
   "cell_type": "code",
   "execution_count": null,
   "metadata": {},
   "outputs": [],
   "source": [
    "# define functions\n",
    "def players_option():\n",
    "    player_choice = input(\"Choose Rock, Paper or Scissors\")\n",
    "    if player_choice in [\"ROCK\", \"Rock\", \"rock\", \"R\", \"r\"]:\n",
    "        player_choice = \"r\"\n",
    "    elif player_choice in [\"PAPER\", \"Paper\", \"paper\", \"p\", \"P\"]:\n",
    "        player_choice = \"p\"\n",
    "    elif player_choice in [\"SCISSORS\", \"Scissors\", \"scissors\", \"s\", \"S\"]:\n",
    "        player_choice = \"s\"\n",
    "    else:\n",
    "        print(\"plaese Enter your Choice!.\")\n",
    "        players_Option()\n",
    "    return player_choice\n",
    "    \n",
    "    "
   ]
  }
 ],
 "metadata": {
  "kernelspec": {
   "display_name": "Python [conda env:PythonData] *",
   "language": "python",
   "name": "conda-env-PythonData-py"
  },
  "language_info": {
   "codemirror_mode": {
    "name": "ipython",
    "version": 3
   },
   "file_extension": ".py",
   "mimetype": "text/x-python",
   "name": "python",
   "nbconvert_exporter": "python",
   "pygments_lexer": "ipython3",
   "version": "3.6.10"
  }
 },
 "nbformat": 4,
 "nbformat_minor": 4
}
